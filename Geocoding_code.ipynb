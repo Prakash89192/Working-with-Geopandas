{
 "cells": [
  {
   "cell_type": "code",
   "execution_count": 15,
   "id": "edcae8a8-7a92-4cd0-ab86-cab3b0f96275",
   "metadata": {},
   "outputs": [],
   "source": [
    "import pandas as pd\n",
    "from geopandas.tools import geocode\n",
    "from geopy.geocoders import Nominatim\n",
    "\n",
    "data  = pd.read_html('https://en.wikipedia.org/wiki/List_of_most_visited_palaces_and_monuments')"
   ]
  },
  {
   "cell_type": "code",
   "execution_count": 10,
   "id": "c4f500eb-115e-43e9-b941-fc0da825b7db",
   "metadata": {},
   "outputs": [
    {
     "name": "stdout",
     "output_type": "stream",
     "text": [
      "         National monuments by visitors per year                     \\\n",
      "                                            Name Country flag, city   \n",
      "0                             The Forbidden City            Beijing   \n",
      "1          St. Peter's Basilica-Apostolic Palace       Vatican City   \n",
      "2                           Palace of Versailles         Versailles   \n",
      "3                               Lincoln Memorial   Washington, D.C.   \n",
      "4  Forum Romanum-Colosseum-Palatine Hill Circuit               Rome   \n",
      "\n",
      "                                         \n",
      "  Visitors per year Year reported Notes  \n",
      "0       17,000,000+       2018[1]   NaN  \n",
      "1          11000000    2018[2][3]   NaN  \n",
      "2           8100000       2018[4]   NaN  \n",
      "3           7804683       2018[5]   NaN  \n",
      "4           7650519       2018[6]   NaN  \n"
     ]
    }
   ],
   "source": [
    "for monuments in data:\n",
    "    pass\n",
    "\n",
    "# Save the information in to an excel file \n",
    "monuments.to_excel('most_visited_locations.xlsx', header = False)   \n",
    "\n",
    "print(monuments.head())"
   ]
  },
  {
   "cell_type": "code",
   "execution_count": 16,
   "id": "75ed42ae-14b4-4094-b983-bc1d3a7e5516",
   "metadata": {},
   "outputs": [
    {
     "name": "stdout",
     "output_type": "stream",
     "text": [
      "               Name     Location    Visitors\n",
      "0           Beijing  17,000,000+     2018[1]\n",
      "1      Vatican City     11000000  2018[2][3]\n",
      "2        Versailles      8100000     2018[4]\n",
      "3  Washington, D.C.      7804683     2018[5]\n",
      "4              Rome      7650519     2018[6]\n"
     ]
    }
   ],
   "source": [
    "# Read the information back into Python as a Pandas DataFrame\n",
    "monuments = pd.read_excel('most_visited_locations.xlsx', \n",
    "                          usecols = [2, 3, 4],\n",
    "                          names = ['Name', 'Location', 'Visitors'], \n",
    "                          header = None,\n",
    "                          skiprows = 1, nrows = 40)\n",
    "\n",
    "print(monuments.head())"
   ]
  },
  {
   "cell_type": "markdown",
   "id": "c5795437-727e-4c08-8d1e-63b04078af15",
   "metadata": {},
   "source": [
    "* Geocoding is a process of converting name or place address into location on a map"
   ]
  },
  {
   "cell_type": "code",
   "execution_count": 17,
   "id": "fc8e8026-e2df-4f21-a3d8-9c8e27cb2997",
   "metadata": {},
   "outputs": [
    {
     "name": "stdout",
     "output_type": "stream",
     "text": [
      "Beijing\n",
      "Vatican City\n",
      "Versailles\n",
      "Washington, D.C.\n",
      "Rome\n",
      "Athens\n",
      "Paris\n",
      "Agra\n",
      "Cologne\n",
      "Saint Petersburg\n",
      "Kevadiya\n",
      "Warsaw\n",
      "Washington, D.C.\n",
      "Washington, D.C.\n",
      "Philadelphia\n",
      "Barcelona\n",
      "New York City\n",
      "Teotihuacán\n",
      "Mysore\n",
      "Saint Petersburg\n",
      "Pompei, Naples\n",
      "Warsaw\n",
      "Vienna\n",
      "Kazan\n",
      "London\n",
      "Granada\n",
      "Yucatán\n",
      "Istanbul\n",
      "Mexico City\n",
      "Valencia\n",
      "Moscow\n",
      "Volgograd\n",
      "Quintana Roo\n",
      "Oświęcim\n",
      "Edinburgh\n",
      "Córdoba\n",
      "Seville\n",
      "Kraków\n",
      "Paris\n",
      "Madrid\n"
     ]
    }
   ],
   "source": [
    "# Define a custom user_agent\n",
    "geolocator = Nominatim(user_agent=\"my-geocoding-app\")\n",
    "\n",
    "# Iterate through the monuments DataFrame\n",
    "for index, row in monuments.iterrows():\n",
    "    try: \n",
    "        print(row['Name'])\n",
    "        info = geolocator.geocode(str(row['Name']))\n",
    "        \n",
    "        # Check if geocoding returned valid data\n",
    "        if info is not None:\n",
    "            monuments.loc[int(index), 'Address'] = info.address\n",
    "            monuments.loc[int(index), 'Lon'] = info.longitude\n",
    "            monuments.loc[int(index), 'Lat'] = info.latitude\n",
    "        else:\n",
    "            print(f\"No geocoding information found for {row['Name']}\")\n",
    "\n",
    "    except Exception as e:\n",
    "        print(f\"Error geocoding {row['Name']}: {e}\")"
   ]
  },
  {
   "cell_type": "code",
   "execution_count": 18,
   "id": "441d6b76-0607-4f52-bbfc-355fec0132ab",
   "metadata": {},
   "outputs": [],
   "source": [
    "# Removing the Nan rows\n",
    "monuments = monuments.dropna()"
   ]
  },
  {
   "cell_type": "code",
   "execution_count": 19,
   "id": "09934cdb-5aac-4bd0-b992-d05c578c0b85",
   "metadata": {},
   "outputs": [],
   "source": [
    "# Saving the dataframe to an excel file\n",
    "monuments.to_excel('Most_visited_monuments.xlsx')"
   ]
  },
  {
   "cell_type": "code",
   "execution_count": 21,
   "id": "54e69994-732e-49fa-ba55-134948342c1f",
   "metadata": {},
   "outputs": [],
   "source": [
    "import folium \n",
    "import pandas as pd \n",
    "\n",
    "dataset = pd.read_excel('Most_visited_monuments.xlsx')\n",
    "del dataset['Unnamed: 0']\n",
    "\n",
    "m = folium.Map(tiles = 'openstreetmap', zoom_starts = 2)\n",
    "\n",
    "for index, row in dataset.iterrows():\n",
    "    folium.Marker([row['Lat'], row['Lon']], popup = 'Name: '+row['Name']+ '<br>' '<br>' 'No. of Visitors: '+ row['Visitors'] ).add_to(m)\n",
    "    \n",
    "m.save('monuments_around_the_world.html')"
   ]
  },
  {
   "cell_type": "code",
   "execution_count": null,
   "id": "230da3eb-1569-4036-aa9c-0b75d63603d7",
   "metadata": {},
   "outputs": [],
   "source": []
  }
 ],
 "metadata": {
  "kernelspec": {
   "display_name": "Python 3 (ipykernel)",
   "language": "python",
   "name": "python3"
  },
  "language_info": {
   "codemirror_mode": {
    "name": "ipython",
    "version": 3
   },
   "file_extension": ".py",
   "mimetype": "text/x-python",
   "name": "python",
   "nbconvert_exporter": "python",
   "pygments_lexer": "ipython3",
   "version": "3.11.7"
  }
 },
 "nbformat": 4,
 "nbformat_minor": 5
}
